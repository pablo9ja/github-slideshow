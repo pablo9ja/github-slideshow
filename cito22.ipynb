{
 "cells": [
  {
   "cell_type": "code",
   "execution_count": 22,
   "metadata": {},
   "outputs": [
    {
     "name": "stdout",
     "output_type": "stream",
     "text": [
      "paul kehinde \n",
      " 25 \n",
      " False \n",
      " 6cm\n"
     ]
    }
   ],
   "source": [
    "#TASK 1\n",
    "\n",
    "name = \"paul kehinde\"\n",
    "age = 25\n",
    "is_student = False\n",
    "height = \"6cm\"\n",
    "\n",
    "print(name,'\\n', age,'\\n', is_student, '\\n', height)\n",
    "\n"
   ]
  },
  {
   "cell_type": "code",
   "execution_count": 23,
   "metadata": {},
   "outputs": [
    {
     "name": "stdout",
     "output_type": "stream",
     "text": [
      "4 \n",
      " 45.0 \n",
      " 49.0\n"
     ]
    }
   ],
   "source": [
    "#TASK 2\n",
    "num1 = int(input('enter a first number of your choice: '))\n",
    "num2 = float(input('enter a second number of your choice :'))\n",
    "sum_result = num1 + num2\n",
    "\n",
    "print(num1, '\\n', num2, '\\n', sum_result)\n"
   ]
  },
  {
   "cell_type": "code",
   "execution_count": 24,
   "metadata": {},
   "outputs": [
    {
     "name": "stdout",
     "output_type": "stream",
     "text": [
      "WWWEWWyttrr \n",
      " wwwewwyttrr \n",
      " *******\n"
     ]
    }
   ],
   "source": [
    "#TASK 3 STRING MANIPULATION\n",
    "\n",
    "sentence = str(input('enter a string of your choice: '))\n",
    "lower_sentence =sentence.lower()\n",
    "replace = lower_sentence.replace(lower_sentence, \"*******\")\n",
    "print(sentence, '\\n', lower_sentence, '\\n', replace)\n",
    "\n"
   ]
  },
  {
   "cell_type": "code",
   "execution_count": 11,
   "metadata": {},
   "outputs": [
    {
     "name": "stdout",
     "output_type": "stream",
     "text": [
      "False\n"
     ]
    }
   ],
   "source": [
    "#TASK 4 WORKING WITH BOOLEAN VALUES\n",
    "\n",
    "is_raining = False\n",
    "is_sunny = True\n",
    "is_windy = True\n",
    "is_good_weather = is_raining and is_sunny\n",
    "print(is_good_weather)"
   ]
  },
  {
   "cell_type": "code",
   "execution_count": 25,
   "metadata": {},
   "outputs": [
    {
     "name": "stdout",
     "output_type": "stream",
     "text": [
      "['apple', 'orange', 'pear'] \n",
      " ['apple', 'orange', 'pear', 'grape', 'mangoe', 'carrot', 'beans']\n"
     ]
    }
   ],
   "source": [
    "#TASK FIVE STING MANIPOULATION\n",
    "\n",
    "fruit = ['apple', 'orange', 'pear', 'grape','mangoe']\n",
    "#type(fruit)\n",
    "fruit.extend(['carrot','beans'])\n",
    "print(fruit[:3], '\\n', fruit)\n"
   ]
  }
 ],
 "metadata": {
  "kernelspec": {
   "display_name": "Python 3",
   "language": "python",
   "name": "python3"
  },
  "language_info": {
   "codemirror_mode": {
    "name": "ipython",
    "version": 3
   },
   "file_extension": ".py",
   "mimetype": "text/x-python",
   "name": "python",
   "nbconvert_exporter": "python",
   "pygments_lexer": "ipython3",
   "version": "3.11.4"
  },
  "orig_nbformat": 4
 },
 "nbformat": 4,
 "nbformat_minor": 2
}
